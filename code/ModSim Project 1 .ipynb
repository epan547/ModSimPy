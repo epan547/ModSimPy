{
 "cells": [
  {
   "cell_type": "code",
   "execution_count": 1,
   "metadata": {
    "collapsed": true
   },
   "outputs": [],
   "source": [
    "#Population models for Syria\n",
    "\n",
    "%matplotlib inline\n",
    "\n",
    "from modsim import *\n",
    "\n"
   ]
  },
  {
   "cell_type": "code",
   "execution_count": 15,
   "metadata": {
    "collapsed": true
   },
   "outputs": [],
   "source": [
    "from pandas import read_csv"
   ]
  },
  {
   "cell_type": "code",
   "execution_count": 55,
   "metadata": {},
   "outputs": [],
   "source": [
    "import csv\n",
    "#myfile = open('C:/Users/epan/Desktop/popdata.csv')   # Windows\n",
    "#mycsv = myfile.read()\n",
    "\n",
    "filename = 'C:/Users/epan/Desktop/popdata.csv'\n",
    "tables = read_csv(filename, header=2, index_col=1, nrows=1, skiprows=227)\n",
    "#tables = read_csv(filename, header=1, index_col=1, nrows=1, skiprows=226)"
   ]
  },
  {
   "cell_type": "code",
   "execution_count": 56,
   "metadata": {},
   "outputs": [
    {
     "data": {
      "text/html": [
       "<div>\n",
       "<style>\n",
       "    .dataframe thead tr:only-child th {\n",
       "        text-align: right;\n",
       "    }\n",
       "\n",
       "    .dataframe thead th {\n",
       "        text-align: left;\n",
       "    }\n",
       "\n",
       "    .dataframe tbody tr th {\n",
       "        vertical-align: top;\n",
       "    }\n",
       "</style>\n",
       "<table border=\"1\" class=\"dataframe\">\n",
       "  <thead>\n",
       "    <tr style=\"text-align: right;\">\n",
       "      <th></th>\n",
       "      <th>Seychelles</th>\n",
       "      <th>Population, total</th>\n",
       "      <th>SP.POP.TOTL</th>\n",
       "      <th>41700</th>\n",
       "      <th>42889</th>\n",
       "      <th>44042</th>\n",
       "      <th>45176</th>\n",
       "      <th>46322</th>\n",
       "      <th>47500</th>\n",
       "      <th>48699</th>\n",
       "      <th>...</th>\n",
       "      <th>86956</th>\n",
       "      <th>87298</th>\n",
       "      <th>89770</th>\n",
       "      <th>87441</th>\n",
       "      <th>88303</th>\n",
       "      <th>89949</th>\n",
       "      <th>91359</th>\n",
       "      <th>93419</th>\n",
       "      <th>94677</th>\n",
       "      <th>Unnamed: 61</th>\n",
       "    </tr>\n",
       "    <tr>\n",
       "      <th>SYC</th>\n",
       "      <th></th>\n",
       "      <th></th>\n",
       "      <th></th>\n",
       "      <th></th>\n",
       "      <th></th>\n",
       "      <th></th>\n",
       "      <th></th>\n",
       "      <th></th>\n",
       "      <th></th>\n",
       "      <th></th>\n",
       "      <th></th>\n",
       "      <th></th>\n",
       "      <th></th>\n",
       "      <th></th>\n",
       "      <th></th>\n",
       "      <th></th>\n",
       "      <th></th>\n",
       "      <th></th>\n",
       "      <th></th>\n",
       "      <th></th>\n",
       "      <th></th>\n",
       "    </tr>\n",
       "  </thead>\n",
       "  <tbody>\n",
       "    <tr>\n",
       "      <th>SYR</th>\n",
       "      <td>Syrian Arab Republic</td>\n",
       "      <td>Population, total</td>\n",
       "      <td>SP.POP.TOTL</td>\n",
       "      <td>4573512</td>\n",
       "      <td>4721896</td>\n",
       "      <td>4875422</td>\n",
       "      <td>5034646</td>\n",
       "      <td>5200336</td>\n",
       "      <td>5373137</td>\n",
       "      <td>5553246</td>\n",
       "      <td>...</td>\n",
       "      <td>20325443</td>\n",
       "      <td>20824893</td>\n",
       "      <td>21018834</td>\n",
       "      <td>20863993</td>\n",
       "      <td>20420701</td>\n",
       "      <td>19809141</td>\n",
       "      <td>19203090</td>\n",
       "      <td>18734987</td>\n",
       "      <td>18430453</td>\n",
       "      <td>NaN</td>\n",
       "    </tr>\n",
       "  </tbody>\n",
       "</table>\n",
       "<p>1 rows × 61 columns</p>\n",
       "</div>"
      ],
      "text/plain": [
       "               Seychelles  Population, total  SP.POP.TOTL    41700    42889  \\\n",
       "SYC                                                                           \n",
       "SYR  Syrian Arab Republic  Population, total  SP.POP.TOTL  4573512  4721896   \n",
       "\n",
       "       44042    45176    46322    47500    48699     ...          86956  \\\n",
       "SYC                                                  ...                  \n",
       "SYR  4875422  5034646  5200336  5373137  5553246     ...       20325443   \n",
       "\n",
       "        87298     89770     87441     88303     89949     91359     93419  \\\n",
       "SYC                                                                         \n",
       "SYR  20824893  21018834  20863993  20420701  19809141  19203090  18734987   \n",
       "\n",
       "        94677  Unnamed: 61  \n",
       "SYC                         \n",
       "SYR  18430453          NaN  \n",
       "\n",
       "[1 rows x 61 columns]"
      ]
     },
     "execution_count": 56,
     "metadata": {},
     "output_type": "execute_result"
    }
   ],
   "source": [
    "tables\n"
   ]
  },
  {
   "cell_type": "code",
   "execution_count": null,
   "metadata": {},
   "outputs": [],
   "source": []
  },
  {
   "cell_type": "code",
   "execution_count": null,
   "metadata": {},
   "outputs": [],
   "source": []
  },
  {
   "cell_type": "code",
   "execution_count": null,
   "metadata": {
    "collapsed": true
   },
   "outputs": [],
   "source": []
  },
  {
   "cell_type": "code",
   "execution_count": null,
   "metadata": {
    "collapsed": true
   },
   "outputs": [],
   "source": []
  }
 ],
 "metadata": {
  "kernelspec": {
   "display_name": "Python 3",
   "language": "python",
   "name": "python3"
  },
  "language_info": {
   "codemirror_mode": {
    "name": "ipython",
    "version": 3
   },
   "file_extension": ".py",
   "mimetype": "text/x-python",
   "name": "python",
   "nbconvert_exporter": "python",
   "pygments_lexer": "ipython3",
   "version": "3.6.1"
  }
 },
 "nbformat": 4,
 "nbformat_minor": 2
}
